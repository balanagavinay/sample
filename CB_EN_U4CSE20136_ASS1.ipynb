{
  "nbformat": 4,
  "nbformat_minor": 0,
  "metadata": {
    "colab": {
      "provenance": [],
      "collapsed_sections": [],
      "authorship_tag": "ABX9TyNuqcLLwv9sEb6sWumRQ6/p",
      "include_colab_link": true
    },
    "kernelspec": {
      "name": "python3",
      "display_name": "Python 3"
    },
    "language_info": {
      "name": "python"
    }
  },
  "cells": [
    {
      "cell_type": "markdown",
      "metadata": {
        "id": "view-in-github",
        "colab_type": "text"
      },
      "source": [
        "<a href=\"https://colab.research.google.com/github/balanagavinay/sample/blob/main/CB_EN_U4CSE20136_ASS1.ipynb\" target=\"_parent\"><img src=\"https://colab.research.google.com/assets/colab-badge.svg\" alt=\"Open In Colab\"/></a>"
      ]
    },
    {
      "cell_type": "code",
      "execution_count": 1,
      "metadata": {
        "colab": {
          "base_uri": "https://localhost:8080/"
        },
        "id": "rA630uJvnNTt",
        "outputId": "6e08bf21-f972-416a-dfe4-e89596c3a91f"
      },
      "outputs": [
        {
          "output_type": "stream",
          "name": "stdout",
          "text": [
            "('aman', 777, '222', 400.4)\n"
          ]
        }
      ],
      "source": [
        "sett = {\"aman\", \"222\", 777, 400.4}\n",
        "tuplee = tuple(sett)\n",
        "print(tuplee)"
      ]
    },
    {
      "cell_type": "code",
      "source": [
        "dict1 = {\"Roll Number\": \"CB.EN.U4CSE20136\",\"Last Name\": \"vinay\",\"First Name\": \"KBN\",\"DOB\": \"01-05-2002\"}\n",
        "print(dict1)"
      ],
      "metadata": {
        "colab": {
          "base_uri": "https://localhost:8080/"
        },
        "id": "9g38y1d5otjw",
        "outputId": "190d6242-d58f-46b5-93b0-c703f5fb9a42"
      },
      "execution_count": 2,
      "outputs": [
        {
          "output_type": "stream",
          "name": "stdout",
          "text": [
            "{'Roll Number': 'CB.EN.U4CSE20136', 'Last Name': 'vinay', 'First Name': 'KBN', 'DOB': '01-05-2002'}\n"
          ]
        }
      ]
    },
    {
      "cell_type": "code",
      "source": [
        "import numpy as np\n",
        "from numpy import random\n",
        "arr = random.randint(0,1,size = (2,2))\n",
        "print(arr)"
      ],
      "metadata": {
        "colab": {
          "base_uri": "https://localhost:8080/"
        },
        "id": "1UJrnciqpmeq",
        "outputId": "584bb9a0-ebba-43ff-e08b-ea8ff15fd926"
      },
      "execution_count": 3,
      "outputs": [
        {
          "output_type": "stream",
          "name": "stdout",
          "text": [
            "[[0 0]\n",
            " [0 0]]\n"
          ]
        }
      ]
    },
    {
      "cell_type": "code",
      "source": [
        "abs(-1234)"
      ],
      "metadata": {
        "colab": {
          "base_uri": "https://localhost:8080/"
        },
        "id": "H9-ezf5Bp76W",
        "outputId": "c3133601-778a-48a7-882b-86a02ee4b1a7"
      },
      "execution_count": 4,
      "outputs": [
        {
          "output_type": "execute_result",
          "data": {
            "text/plain": [
              "1234"
            ]
          },
          "metadata": {},
          "execution_count": 4
        }
      ]
    },
    {
      "cell_type": "code",
      "source": [
        "print(random.random())"
      ],
      "metadata": {
        "colab": {
          "base_uri": "https://localhost:8080/"
        },
        "id": "7R8aLBCSp8DS",
        "outputId": "e568a81b-8628-4faa-ca67-eec69aa436fe"
      },
      "execution_count": 5,
      "outputs": [
        {
          "output_type": "stream",
          "name": "stdout",
          "text": [
            "0.7825430240164591\n"
          ]
        }
      ]
    },
    {
      "cell_type": "code",
      "source": [
        "print(random.randint(20,90))"
      ],
      "metadata": {
        "colab": {
          "base_uri": "https://localhost:8080/"
        },
        "id": "58W6nVQap8Lx",
        "outputId": "3ce7523c-b194-4a61-f3cc-dc0f3a0cf9a2"
      },
      "execution_count": 6,
      "outputs": [
        {
          "output_type": "stream",
          "name": "stdout",
          "text": [
            "87\n"
          ]
        }
      ]
    },
    {
      "cell_type": "code",
      "source": [
        "set1 = set([11,12,13,14,15])\n",
        "set2 = random.choices(list(set1),k=3)\n",
        "print(set2)"
      ],
      "metadata": {
        "colab": {
          "base_uri": "https://localhost:8080/"
        },
        "id": "vBUVQ-x6qg85",
        "outputId": "ccbe4003-7f88-4d9d-b48d-1d548f9563ee"
      },
      "execution_count": 11,
      "outputs": [
        {
          "output_type": "stream",
          "name": "stdout",
          "text": [
            "[13, 13, 11]\n"
          ]
        }
      ]
    },
    {
      "cell_type": "code",
      "source": [
        "import random\n",
        "Set1 = set([11, 12, 13, 14, 15])\n",
        "UpdatedList = random.choices(list(Set1), k = 3)\n",
        "print(UpdatedList)\n",
        "set2 = random.choice(list(Set1))\n",
        "print(set2)"
      ],
      "metadata": {
        "colab": {
          "base_uri": "https://localhost:8080/"
        },
        "id": "mudVtupIqhD4",
        "outputId": "c6ddc0b3-d1fb-40c7-b171-73b4bc001c02"
      },
      "execution_count": 9,
      "outputs": [
        {
          "output_type": "stream",
          "name": "stdout",
          "text": [
            "[12, 11, 11]\n",
            "14\n"
          ]
        }
      ]
    },
    {
      "cell_type": "code",
      "source": [
        "import os\n",
        "os.getcwd()\n",
        "os.chdir(r\"/content/sample_data\")\n",
        "os.mkdir('document1')\n",
        "os.chdir('document1')\n",
        "f = open('document_1.txt','w+')\n",
        "f.write('The King is Dead, Long Live The King')\n",
        "f.seek(0)\n",
        "print(f.read())\n",
        "f.close()"
      ],
      "metadata": {
        "colab": {
          "base_uri": "https://localhost:8080/"
        },
        "id": "fVSzZl6WqhL8",
        "outputId": "09120850-c90f-42c8-8eeb-6cb69e78dc8b"
      },
      "execution_count": 10,
      "outputs": [
        {
          "output_type": "stream",
          "name": "stdout",
          "text": [
            "The King is Dead, Long Live The King\n"
          ]
        }
      ]
    },
    {
      "cell_type": "code",
      "source": [
        "string = 'The King is Dead, Long Live The King'\n",
        "print(string)\n",
        "print(string[0])\n",
        "print(string[3:6])\n",
        "print(string[3:])\n",
        "str = string.split()\n",
        "print(str)"
      ],
      "metadata": {
        "colab": {
          "base_uri": "https://localhost:8080/"
        },
        "id": "486yMIEIr9z_",
        "outputId": "089bfca7-eded-443d-de57-584e0ea4b330"
      },
      "execution_count": 12,
      "outputs": [
        {
          "output_type": "stream",
          "name": "stdout",
          "text": [
            "The King is Dead, Long Live The King\n",
            "T\n",
            " Ki\n",
            " King is Dead, Long Live The King\n",
            "['The', 'King', 'is', 'Dead,', 'Long', 'Live', 'The', 'King']\n"
          ]
        }
      ]
    },
    {
      "cell_type": "code",
      "source": [
        "import numpy as np\n",
        "l=[10,67,89,35]\n",
        "arr=np.array(l)\n",
        "print(\"The first and second elements are\",arr[0],arr[1])  "
      ],
      "metadata": {
        "colab": {
          "base_uri": "https://localhost:8080/"
        },
        "id": "iT3cvy2Vr-Bu",
        "outputId": "21705339-4ab8-40c7-e6e7-c07cc5f98fa1"
      },
      "execution_count": 14,
      "outputs": [
        {
          "output_type": "stream",
          "name": "stdout",
          "text": [
            "The first and second elements are 10 67\n"
          ]
        }
      ]
    },
    {
      "cell_type": "code",
      "source": [
        "arr=np.array([[1.,2.,3.],[4.,5.,6.],[7.,8.,9.]])\n",
        "print(arr)"
      ],
      "metadata": {
        "colab": {
          "base_uri": "https://localhost:8080/"
        },
        "id": "3Wt9BVufr-La",
        "outputId": "ac8c9b5d-c175-4f73-a605-090fa1478fc3"
      },
      "execution_count": 13,
      "outputs": [
        {
          "output_type": "stream",
          "name": "stdout",
          "text": [
            "[[1. 2. 3.]\n",
            " [4. 5. 6.]\n",
            " [7. 8. 9.]]\n"
          ]
        }
      ]
    },
    {
      "cell_type": "code",
      "source": [
        "arr=np.array([[1.,2.,3.],[4.,5.,6.],[7.,8.,9.]])\n",
        "print(\"Second Row\",arr[1:][:])\n",
        "print(\"Second Col\",arr[1:,1])\n",
        "print(\"Length of the array :\",len(arr))\n"
      ],
      "metadata": {
        "colab": {
          "base_uri": "https://localhost:8080/"
        },
        "id": "UiVZR0x8r-Ur",
        "outputId": "3616c952-ca5e-4722-b9f1-87747aa3361b"
      },
      "execution_count": 16,
      "outputs": [
        {
          "output_type": "stream",
          "name": "stdout",
          "text": [
            "Second Row [[4. 5. 6.]\n",
            " [7. 8. 9.]]\n",
            "Second Col [5. 8.]\n",
            "Length of the array : 3\n"
          ]
        }
      ]
    },
    {
      "cell_type": "code",
      "source": [
        "list3=[]\n",
        "for i in range(10):\n",
        "  list3.append(np.random.randint(0,100))\n",
        "oned=np.array(list3)\n",
        "print(\"1D array :\",oned)\n",
        "twod=oned.reshape(5,2)\n",
        "print(\"2D array :\\n\",twod)\n",
        "print(\"Transpose :\\n\",twod.T)"
      ],
      "metadata": {
        "colab": {
          "base_uri": "https://localhost:8080/"
        },
        "id": "7WHp1yrnr-dR",
        "outputId": "782b2d8a-310e-45e5-dfd7-d8bca61d21ae"
      },
      "execution_count": 18,
      "outputs": [
        {
          "output_type": "stream",
          "name": "stdout",
          "text": [
            "1D array : [31 47 65 23 57 63 14 60 52 89]\n",
            "2D array :\n",
            " [[31 47]\n",
            " [65 23]\n",
            " [57 63]\n",
            " [14 60]\n",
            " [52 89]]\n",
            "Transpose :\n",
            " [[31 65 57 14 52]\n",
            " [47 23 63 60 89]]\n"
          ]
        }
      ]
    },
    {
      "cell_type": "code",
      "source": [
        "l1=[1,2,3]\n",
        "l2=[1,2,3]\n",
        "l3=[1,2,3]\n",
        "newarr=np.array([l1,l2,l3])\n",
        "print(newarr)"
      ],
      "metadata": {
        "colab": {
          "base_uri": "https://localhost:8080/"
        },
        "id": "a07-hESHsqRT",
        "outputId": "b3a6cfad-8559-4681-d43b-112e1819eb64"
      },
      "execution_count": 19,
      "outputs": [
        {
          "output_type": "stream",
          "name": "stdout",
          "text": [
            "[[1 2 3]\n",
            " [1 2 3]\n",
            " [1 2 3]]\n"
          ]
        }
      ]
    },
    {
      "cell_type": "code",
      "source": [
        "arr=np.array([1,2,3])\n",
        "for i in range(len(arr)):\n",
        "  arr[i]=9\n",
        "print(arr)"
      ],
      "metadata": {
        "colab": {
          "base_uri": "https://localhost:8080/"
        },
        "id": "v1CdDrwRsqcA",
        "outputId": "688b9cbd-2d40-456b-c42a-d9d280fdf662"
      },
      "execution_count": 20,
      "outputs": [
        {
          "output_type": "stream",
          "name": "stdout",
          "text": [
            "[9 9 9]\n"
          ]
        }
      ]
    },
    {
      "cell_type": "code",
      "source": [
        "arr=np.array([2,4,5])\n",
        "sum=0\n",
        "for i in arr:\n",
        "  sum+=i\n",
        "print(sum)"
      ],
      "metadata": {
        "colab": {
          "base_uri": "https://localhost:8080/"
        },
        "id": "C-bGkMXssqk2",
        "outputId": "2f7e3c73-c495-44d4-84f9-f52eeb5d9767"
      },
      "execution_count": 21,
      "outputs": [
        {
          "output_type": "stream",
          "name": "stdout",
          "text": [
            "11\n"
          ]
        }
      ]
    },
    {
      "cell_type": "code",
      "source": [
        "arr=np.array([77,74,75])\n",
        "prod=1\n",
        "for i in arr:\n",
        "  prod*=i\n",
        "print(prod)"
      ],
      "metadata": {
        "colab": {
          "base_uri": "https://localhost:8080/"
        },
        "id": "WvtS3lmrsqt7",
        "outputId": "0c91920c-06d2-43ab-cb66-e3f0df2ccac2"
      },
      "execution_count": 22,
      "outputs": [
        {
          "output_type": "stream",
          "name": "stdout",
          "text": [
            "427350\n"
          ]
        }
      ]
    },
    {
      "cell_type": "code",
      "source": [
        "arr=np.array([2,1,9,1,2,22,1,1,4,55,6,2,56])\n",
        "print(np.mean(arr))\n",
        "print(np.var(arr))\n",
        "print(np.max(arr))\n",
        "print(np.min(arr))\n",
        "print(np.argmin(arr))\n",
        "print(np.median(arr))\n",
        "print(np.argmax(arr))\n",
        "print(np.std(arr))"
      ],
      "metadata": {
        "colab": {
          "base_uri": "https://localhost:8080/"
        },
        "id": "BuRMgIq3uNLm",
        "outputId": "a137e6f8-6003-42f2-f2c6-533fd5845e36"
      },
      "execution_count": 23,
      "outputs": [
        {
          "output_type": "stream",
          "name": "stdout",
          "text": [
            "12.461538461538462\n",
            "367.32544378698225\n",
            "56\n",
            "1\n",
            "1\n",
            "2.0\n",
            "12\n",
            "19.165736192147232\n"
          ]
        }
      ]
    },
    {
      "cell_type": "code",
      "source": [
        "arr=np.array([1, 1, 7, 5, 5, 5, 4])\n",
        "temp=np.array(np.unique(arr))\n",
        "temp.sort()\n",
        "print(temp)"
      ],
      "metadata": {
        "colab": {
          "base_uri": "https://localhost:8080/"
        },
        "id": "gAlqj5bxuNR2",
        "outputId": "24ac2c98-31cc-44bb-d3be-5e9d95aa1dfe"
      },
      "execution_count": 26,
      "outputs": [
        {
          "output_type": "stream",
          "name": "stdout",
          "text": [
            "[1 4 5 7]\n"
          ]
        }
      ]
    },
    {
      "cell_type": "code",
      "source": [
        "x=np.array([1,2,3])\n",
        "y=np.array([0,1,1])\n",
        "print(np.dot(x,y))"
      ],
      "metadata": {
        "colab": {
          "base_uri": "https://localhost:8080/"
        },
        "id": "N7_FaHOJuUnM",
        "outputId": "74d86ef7-4927-4bd3-b447-c854d2943603"
      },
      "execution_count": 24,
      "outputs": [
        {
          "output_type": "stream",
          "name": "stdout",
          "text": [
            "5\n"
          ]
        }
      ]
    },
    {
      "cell_type": "code",
      "source": [
        "import numpy as np\n",
        "from numpy.linalg import eig\n",
        "a = np.array([[2, -12], \n",
        "              [1, -5]])\n",
        "w,v=eig(a)\n",
        "print(w)\n",
        "print(v)"
      ],
      "metadata": {
        "colab": {
          "base_uri": "https://localhost:8080/"
        },
        "id": "D0GvCVOIuUsQ",
        "outputId": "ab387294-9569-4c9b-c7ba-088916dfb173"
      },
      "execution_count": 25,
      "outputs": [
        {
          "output_type": "stream",
          "name": "stdout",
          "text": [
            "[-1. -2.]\n",
            "[[0.9701425  0.9486833 ]\n",
            " [0.24253563 0.31622777]]\n"
          ]
        }
      ]
    }
  ]
}